{
 "cells": [
  {
   "cell_type": "markdown",
   "metadata": {},
   "source": [
    " Build the web crawler to pull product information and links from an e-commerce website"
   ]
  },
  {
   "cell_type": "code",
   "execution_count": 6,
   "metadata": {
    "colab": {
     "base_uri": "https://localhost:8080/"
    },
    "id": "dlfGg_K3Fs38",
    "outputId": "6a4503eb-5145-412f-e408-fcd94d82af89"
   },
   "outputs": [],
   "source": []
  },
  {
   "cell_type": "code",
   "execution_count": 7,
   "metadata": {},
   "outputs": [
    {
     "name": "stdout",
     "output_type": "stream",
     "text": [
      "Test Site Link: /test-sites/e-commerce/allinone\n",
      "Test Site Link: /test-sites/e-commerce/static\n",
      "Test Site Link: /test-sites/e-commerce/ajax\n",
      "Test Site Link: /test-sites/e-commerce/more\n",
      "Test Site Link: /test-sites/e-commerce/scroll\n",
      "Test Site Link: /test-sites/tables\n"
     ]
    }
   ],
   "source": [
    "import requests\n",
    "from bs4 import BeautifulSoup\n",
    "\n",
    "# Define the URL of the webpage you want to scrape\n",
    "url = \"https://webscraper.io/test-sites\"\n",
    "#url = \"https://web.telegram.org/k/\"\n",
    "# Send a GET request to the URL\n",
    "response = requests.get(url)\n",
    "\n",
    "# Check if the request was successful (status code 200)\n",
    "if response.status_code == 200:\n",
    "    # Parse the HTML content of the page using BeautifulSoup\n",
    "    soup = BeautifulSoup(response.text, 'html.parser')\n",
    "\n",
    "    # Extract information from the first section (Test Sites)\n",
    "    test_site_links = soup.find_all('div', class_='test-site')\n",
    "    for site in test_site_links:\n",
    "        site_link = site.find('a')['href']\n",
    "        print(\"Test Site Link:\", site_link)\n",
    "\n",
    "    # Extract information from the second section (E-commerce site)\n",
    "    product_divs = soup.find_all('div', class_='col-sm-4 col-lg-4 col-md-4')\n",
    "    for product_div in product_divs:\n",
    "        product_name = product_div.find('a', class_='title').text.strip()\n",
    "        product_price = product_div.find('h4', class_='pull-right').text.strip()\n",
    "        print(\"Product Name:\", product_name)\n",
    "        print(\"Product Price:\", product_price)\n",
    "        print(\"\\n\")\n",
    "else:\n",
    "    print(\"Failed to retrieve the page. Status code:\", response.status_code)\n"
   ]
  },
  {
   "cell_type": "code",
   "execution_count": 2,
   "metadata": {},
   "outputs": [
    {
     "name": "stdout",
     "output_type": "stream",
     "text": [
      "Requirement already satisfied: bs4 in c:\\users\\unnati patodi\\documents\\anaconda\\lib\\site-packages (0.0.1)\n",
      "Requirement already satisfied: beautifulsoup4 in c:\\users\\unnati patodi\\documents\\anaconda\\lib\\site-packages (from bs4) (4.10.0)\n",
      "Requirement already satisfied: soupsieve>1.2 in c:\\users\\unnati patodi\\documents\\anaconda\\lib\\site-packages (from beautifulsoup4->bs4) (2.2.1)\n",
      "Note: you may need to restart the kernel to use updated packages.\n"
     ]
    }
   ],
   "source": [
    "pip install bs4"
   ]
  },
  {
   "cell_type": "code",
   "execution_count": 3,
   "metadata": {},
   "outputs": [
    {
     "name": "stdout",
     "output_type": "stream",
     "text": [
      "Requirement already satisfied: requests in c:\\users\\unnati patodi\\documents\\anaconda\\lib\\site-packages (2.26.0)\n",
      "Requirement already satisfied: charset-normalizer~=2.0.0 in c:\\users\\unnati patodi\\documents\\anaconda\\lib\\site-packages (from requests) (2.0.4)\n",
      "Requirement already satisfied: idna<4,>=2.5 in c:\\users\\unnati patodi\\documents\\anaconda\\lib\\site-packages (from requests) (3.2)\n",
      "Requirement already satisfied: urllib3<1.27,>=1.21.1 in c:\\users\\unnati patodi\\documents\\anaconda\\lib\\site-packages (from requests) (1.26.7)\n",
      "Requirement already satisfied: certifi>=2017.4.17 in c:\\users\\unnati patodi\\documents\\anaconda\\lib\\site-packages (from requests) (2021.10.8)\n",
      "Note: you may need to restart the kernel to use updated packages.\n"
     ]
    }
   ],
   "source": [
    "pip install requests"
   ]
  },
  {
   "cell_type": "code",
   "execution_count": null,
   "metadata": {},
   "outputs": [],
   "source": []
  }
 ],
 "metadata": {
  "colab": {
   "provenance": []
  },
  "kernelspec": {
   "display_name": "Python 3 (ipykernel)",
   "language": "python",
   "name": "python3"
  },
  "language_info": {
   "codemirror_mode": {
    "name": "ipython",
    "version": 3
   },
   "file_extension": ".py",
   "mimetype": "text/x-python",
   "name": "python",
   "nbconvert_exporter": "python",
   "pygments_lexer": "ipython3",
   "version": "3.9.7"
  }
 },
 "nbformat": 4,
 "nbformat_minor": 1
}

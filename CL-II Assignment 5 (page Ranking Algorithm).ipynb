{
 "cells": [
  {
   "cell_type": "code",
   "execution_count": 4,
   "metadata": {},
   "outputs": [
    {
     "name": "stdout",
     "output_type": "stream",
     "text": [
      "Defaulting to user installation because normal site-packages is not writeable\n",
      "Collecting networkx\n",
      "  Downloading networkx-2.5.1-py3-none-any.whl (1.6 MB)\n",
      "     |████████████████████████████████| 1.6 MB 1.2 MB/s            \n",
      "\u001b[?25hCollecting decorator<5,>=4.3\n",
      "  Downloading decorator-4.4.2-py2.py3-none-any.whl (9.2 kB)\n",
      "Installing collected packages: decorator, networkx\n",
      "Successfully installed decorator-4.4.2 networkx-2.5.1\n",
      "Note: you may need to restart the kernel to use updated packages.\n"
     ]
    }
   ],
   "source": [
    "pip install networkx\n"
   ]
  },
  {
   "cell_type": "code",
   "execution_count": 7,
   "metadata": {},
   "outputs": [
    {
     "name": "stdout",
     "output_type": "stream",
     "text": [
      "PageRank values:\n",
      "A: 0.4865\n",
      "B: 0.2568\n",
      "C: 0.2568\n"
     ]
    }
   ],
   "source": [
    "import networkx as nx\n",
    "\n"
   ]
  },
  {
   "cell_type": "code",
   "execution_count": 5,
   "metadata": {},
   "outputs": [
    {
     "data": {
      "image/png": "[encoded data removed]",
      "text/plain": [
       "<Figure size 432x288 with 1 Axes>"
      ]
     },
     "metadata": {},
     "output_type": "display_data"
    },
    {
     "name": "stdout",
     "output_type": "stream",
     "text": [
      "PageRank values:\n",
      "A: 0.2597\n",
      "B: 0.3701\n",
      "C: 0.3701\n"
     ]
    }
   ],
   "source": [
    "import networkx as nx\n",
    "import matplotlib.pyplot as plt\n",
    "\n",
    "# Create a directed multigraph\n",
    "G = nx.MultiDiGraph()\n",
    "G.add_edge('A', 'B')\n",
    "G.add_edge('A', 'B')\n",
    "G.add_edge('A', 'C')\n",
    "\n",
    "# Convert the multigraph to a directed simple graph\n",
    "simple_G = nx.DiGraph(G)\n",
    "\n",
    "# Calculate PageRank on the directed simple graph\n",
    "pr = nx.pagerank(simple_G)\n",
    "\n",
    "# Visualize the directed graph\n",
    "pos = nx.spring_layout(simple_G)\n",
    "nx.draw(simple_G, pos, with_labels=True, node_size=1000, node_color='pink', font_size=15, font_color='black', arrows=True)\n",
    "plt.title(\"Directed Graph Visualization\")\n",
    "plt.show()\n",
    "\n",
    "# Print PageRank values\n",
    "print(\"PageRank values:\")\n",
    "for node, value in pr.items():\n",
    "    print(f\"{node}: {value:.4f}\")\n",
    "\n"
   ]
  },
  {
   "cell_type": "code",
   "execution_count": null,
   "metadata": {},
   "outputs": [],
   "source": []
  },
  {
   "cell_type": "code",
   "execution_count": null,
   "metadata": {},
   "outputs": [],
   "source": []
  }
 ],
 "metadata": {
  "kernelspec": {
   "display_name": "Python 3 (ipykernel)",
   "language": "python",
   "name": "python3"
  },
  "language_info": {
   "codemirror_mode": {
    "name": "ipython",
    "version": 3
   },
   "file_extension": ".py",
   "mimetype": "text/x-python",
   "name": "python",
   "nbconvert_exporter": "python",
   "pygments_lexer": "ipython3",
   "version": "3.9.7"
  }
 },
 "nbformat": 4,
 "nbformat_minor": 2
}

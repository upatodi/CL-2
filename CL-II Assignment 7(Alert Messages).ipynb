{
 "cells": [
  {
   "cell_type": "markdown",
   "id": "68a84ef8",
   "metadata": {},
   "source": [
    " Write a program for sending alert messages to the user for controlling and interacting with your \n",
    "environment. "
   ]
  },
  {
   "cell_type": "code",
   "execution_count": 1,
   "id": "e28446c2",
   "metadata": {},
   "outputs": [
    {
     "ename": "ModuleNotFoundError",
     "evalue": "No module named 'RPi'",
     "output_type": "error",
     "traceback": [
      "\u001b[1;31m---------------------------------------------------------------------------\u001b[0m",
      "\u001b[1;31mModuleNotFoundError\u001b[0m                       Traceback (most recent call last)",
      "\u001b[1;32mC:\\Users\\UNNATI~1\\AppData\\Local\\Temp/ipykernel_21824/3418320124.py\u001b[0m in \u001b[0;36m<module>\u001b[1;34m\u001b[0m\n\u001b[0;32m      1\u001b[0m \u001b[1;32mimport\u001b[0m \u001b[0msmtplib\u001b[0m\u001b[1;33m\u001b[0m\u001b[1;33m\u001b[0m\u001b[0m\n\u001b[0;32m      2\u001b[0m \u001b[1;32mimport\u001b[0m \u001b[0mssl\u001b[0m\u001b[1;33m\u001b[0m\u001b[1;33m\u001b[0m\u001b[0m\n\u001b[1;32m----> 3\u001b[1;33m \u001b[1;32mimport\u001b[0m \u001b[0mRPi\u001b[0m\u001b[1;33m.\u001b[0m\u001b[0mGPIO\u001b[0m \u001b[1;32mas\u001b[0m \u001b[0mG\u001b[0m\u001b[1;33m\u001b[0m\u001b[1;33m\u001b[0m\u001b[0m\n\u001b[0m\u001b[0;32m      4\u001b[0m \u001b[1;32mimport\u001b[0m \u001b[0mtime\u001b[0m\u001b[1;33m\u001b[0m\u001b[1;33m\u001b[0m\u001b[0m\n\u001b[0;32m      5\u001b[0m \u001b[0minp\u001b[0m \u001b[1;33m=\u001b[0m  \u001b[1;36m35\u001b[0m\u001b[1;33m\u001b[0m\u001b[1;33m\u001b[0m\u001b[0m\n",
      "\u001b[1;31mModuleNotFoundError\u001b[0m: No module named 'RPi'"
     ]
    }
   ],
   "source": [
    "import smtplib\n",
    "import ssl\n",
    "import RPi.GPIO as G\n",
    "import time\n",
    "inp =  35\n",
    "G.setwarnings(False)\n",
    "G.setmode(G.BOARD)\n",
    "G.setup(inp,G.IN)\n",
    "#Your SMTP server\n",
    "host = \"smtp.gmail.com\"\n",
    "port = 465\n",
    "\n",
    "#Your credentials\n",
    "login = \"Sender@mail.com\"\n",
    "password = \"** ** ** **\" #enter your own code\n",
    "\n",
    "#Build your email\n",
    "context = ssl.create_default_context()\n",
    "dest = \"receive@mail.com\"\n",
    "subject = \"Test email Python\"\n",
    "body = \"Paresh Detected\"\n",
    "\n",
    "\n",
    "\n",
    "email = \"Subject: detection\\nTo: receive@mail.com\\nFrom: Sender@mail.com\\nMotion detected\"\n",
    "\n",
    "#Send email\n",
    "while True:\n",
    "    time.sleep(1)\n",
    "    if(G.input(inp)):\n",
    "        print(\"Detected\")\n",
    "        with smtplib.SMTP_SSL(host, port, context=context) as server:\n",
    "            server.login(login, password)\n",
    "            server.sendmail(login, dest, email)\n",
    "            break"
   ]
  },
  {
   "cell_type": "code",
   "execution_count": null,
   "id": "38521214",
   "metadata": {},
   "outputs": [],
   "source": []
  }
 ],
 "metadata": {
  "kernelspec": {
   "display_name": "Python 3 (ipykernel)",
   "language": "python",
   "name": "python3"
  },
  "language_info": {
   "codemirror_mode": {
    "name": "ipython",
    "version": 3
   },
   "file_extension": ".py",
   "mimetype": "text/x-python",
   "name": "python",
   "nbconvert_exporter": "python",
   "pygments_lexer": "ipython3",
   "version": "3.9.7"
  }
 },
 "nbformat": 4,
 "nbformat_minor": 5
}
